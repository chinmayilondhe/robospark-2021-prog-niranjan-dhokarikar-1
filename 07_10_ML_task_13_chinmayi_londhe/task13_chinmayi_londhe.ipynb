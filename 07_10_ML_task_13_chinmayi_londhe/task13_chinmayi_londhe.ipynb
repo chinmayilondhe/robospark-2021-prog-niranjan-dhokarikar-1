{
  "nbformat": 4,
  "nbformat_minor": 0,
  "metadata": {
    "kernelspec": {
      "display_name": "Python 3",
      "language": "python",
      "name": "python3"
    },
    "language_info": {
      "codemirror_mode": {
        "name": "ipython",
        "version": 3
      },
      "file_extension": ".py",
      "mimetype": "text/x-python",
      "name": "python",
      "nbconvert_exporter": "python",
      "pygments_lexer": "ipython3",
      "version": "3.7.4"
    },
    "colab": {
      "name": "Day_1_task.ipynb",
      "provenance": []
    }
  },
  "cells": [
    {
      "cell_type": "markdown",
      "metadata": {
        "id": "fhSR1uEnTiGy"
      },
      "source": [
        "Download the dataset from [here](https://drive.google.com/file/d/1dVbihPJFSh6sqUkOZBQHyTFZBHPowLPc/view?usp=sharing)"
      ]
    },
    {
      "cell_type": "code",
      "metadata": {
        "collapsed": true,
        "id": "JB0wWNMkTE0a",
        "colab": {
          "base_uri": "https://localhost:8080/"
        },
        "outputId": "bf7728c1-6e01-43e7-9eec-201c3f6a51be"
      },
      "source": [
        "from google.colab import drive\n",
        "drive.mount('/content/drive')\n"
      ],
      "execution_count": 3,
      "outputs": [
        {
          "output_type": "stream",
          "name": "stdout",
          "text": [
            "Mounted at /content/drive\n"
          ]
        }
      ]
    },
    {
      "cell_type": "code",
      "metadata": {
        "collapsed": true,
        "id": "HjWeaot4TE0e"
      },
      "source": [
        "import pandas as pd       # dataframe operations \n",
        "import numpy as np        # numeric operations\n",
        "\n",
        "path = '/content/drive/MyDrive/ecommerce.csv'  # path of the dataset \n",
        "\n",
        "df = pd.read_csv(path)  # reads data and stores as dataframe \n"
      ],
      "execution_count": 4,
      "outputs": []
    },
    {
      "cell_type": "markdown",
      "metadata": {
        "id": "tjdO3GJSTE0i"
      },
      "source": [
        "**Check the head of the DataFrame.**"
      ]
    },
    {
      "cell_type": "code",
      "metadata": {
        "id": "wEOFLIC2TE0t",
        "colab": {
          "base_uri": "https://localhost:8080/",
          "height": 506
        },
        "outputId": "a5c85021-5324-4ed2-85cd-dcb4165334e7"
      },
      "source": [
        "df.head()"
      ],
      "execution_count": null,
      "outputs": [
        {
          "output_type": "execute_result",
          "data": {
            "text/html": [
              "<div>\n",
              "<style scoped>\n",
              "    .dataframe tbody tr th:only-of-type {\n",
              "        vertical-align: middle;\n",
              "    }\n",
              "\n",
              "    .dataframe tbody tr th {\n",
              "        vertical-align: top;\n",
              "    }\n",
              "\n",
              "    .dataframe thead th {\n",
              "        text-align: right;\n",
              "    }\n",
              "</style>\n",
              "<table border=\"1\" class=\"dataframe\">\n",
              "  <thead>\n",
              "    <tr style=\"text-align: right;\">\n",
              "      <th></th>\n",
              "      <th>Address</th>\n",
              "      <th>Lot</th>\n",
              "      <th>AM or PM</th>\n",
              "      <th>Browser Info</th>\n",
              "      <th>Company</th>\n",
              "      <th>Credit Card</th>\n",
              "      <th>CC Exp Date</th>\n",
              "      <th>CC Security Code</th>\n",
              "      <th>CC Provider</th>\n",
              "      <th>Email</th>\n",
              "      <th>Job</th>\n",
              "      <th>IP Address</th>\n",
              "      <th>Language</th>\n",
              "      <th>Purchase Price</th>\n",
              "    </tr>\n",
              "  </thead>\n",
              "  <tbody>\n",
              "    <tr>\n",
              "      <th>0</th>\n",
              "      <td>16629 Pace Camp Apt. 448\\r\\nAlexisborough, NE ...</td>\n",
              "      <td>46 in</td>\n",
              "      <td>PM</td>\n",
              "      <td>Opera/9.56.(X11; Linux x86_64; sl-SI) Presto/2...</td>\n",
              "      <td>Martinez-Herman</td>\n",
              "      <td>6011929061123406</td>\n",
              "      <td>02/20</td>\n",
              "      <td>900</td>\n",
              "      <td>JCB 16 digit</td>\n",
              "      <td>pdunlap@yahoo.com</td>\n",
              "      <td>Scientist, product/process development</td>\n",
              "      <td>149.146.147.205</td>\n",
              "      <td>el</td>\n",
              "      <td>98.14</td>\n",
              "    </tr>\n",
              "    <tr>\n",
              "      <th>1</th>\n",
              "      <td>9374 Jasmine Spurs Suite 508\\r\\nSouth John, TN...</td>\n",
              "      <td>28 rn</td>\n",
              "      <td>PM</td>\n",
              "      <td>Opera/8.93.(Windows 98; Win 9x 4.90; en-US) Pr...</td>\n",
              "      <td>Fletcher, Richards and Whitaker</td>\n",
              "      <td>3337758169645356</td>\n",
              "      <td>11/18</td>\n",
              "      <td>561</td>\n",
              "      <td>Mastercard</td>\n",
              "      <td>anthony41@reed.com</td>\n",
              "      <td>Drilling engineer</td>\n",
              "      <td>15.160.41.51</td>\n",
              "      <td>fr</td>\n",
              "      <td>70.73</td>\n",
              "    </tr>\n",
              "    <tr>\n",
              "      <th>2</th>\n",
              "      <td>Unit 0065 Box 5052\\r\\nDPO AP 27450</td>\n",
              "      <td>94 vE</td>\n",
              "      <td>PM</td>\n",
              "      <td>Mozilla/5.0 (compatible; MSIE 9.0; Windows NT ...</td>\n",
              "      <td>Simpson, Williams and Pham</td>\n",
              "      <td>675957666125</td>\n",
              "      <td>08/19</td>\n",
              "      <td>699</td>\n",
              "      <td>JCB 16 digit</td>\n",
              "      <td>amymiller@morales-harrison.com</td>\n",
              "      <td>Customer service manager</td>\n",
              "      <td>132.207.160.22</td>\n",
              "      <td>de</td>\n",
              "      <td>0.95</td>\n",
              "    </tr>\n",
              "    <tr>\n",
              "      <th>3</th>\n",
              "      <td>7780 Julia Fords\\r\\nNew Stacy, WA 45798</td>\n",
              "      <td>36 vm</td>\n",
              "      <td>PM</td>\n",
              "      <td>Mozilla/5.0 (Macintosh; Intel Mac OS X 10_8_0 ...</td>\n",
              "      <td>Williams, Marshall and Buchanan</td>\n",
              "      <td>6011578504430710</td>\n",
              "      <td>02/24</td>\n",
              "      <td>384</td>\n",
              "      <td>Discover</td>\n",
              "      <td>brent16@olson-robinson.info</td>\n",
              "      <td>Drilling engineer</td>\n",
              "      <td>30.250.74.19</td>\n",
              "      <td>es</td>\n",
              "      <td>78.04</td>\n",
              "    </tr>\n",
              "    <tr>\n",
              "      <th>4</th>\n",
              "      <td>23012 Munoz Drive Suite 337\\r\\nNew Cynthia, TX...</td>\n",
              "      <td>20 IE</td>\n",
              "      <td>AM</td>\n",
              "      <td>Opera/9.58.(X11; Linux x86_64; it-IT) Presto/2...</td>\n",
              "      <td>Brown, Watson and Andrews</td>\n",
              "      <td>6011456623207998</td>\n",
              "      <td>10/25</td>\n",
              "      <td>678</td>\n",
              "      <td>Diners Club / Carte Blanche</td>\n",
              "      <td>christopherwright@gmail.com</td>\n",
              "      <td>Fine artist</td>\n",
              "      <td>24.140.33.94</td>\n",
              "      <td>es</td>\n",
              "      <td>77.82</td>\n",
              "    </tr>\n",
              "  </tbody>\n",
              "</table>\n",
              "</div>"
            ],
            "text/plain": [
              "                                             Address  ... Purchase Price\n",
              "0  16629 Pace Camp Apt. 448\\r\\nAlexisborough, NE ...  ...          98.14\n",
              "1  9374 Jasmine Spurs Suite 508\\r\\nSouth John, TN...  ...          70.73\n",
              "2                 Unit 0065 Box 5052\\r\\nDPO AP 27450  ...           0.95\n",
              "3            7780 Julia Fords\\r\\nNew Stacy, WA 45798  ...          78.04\n",
              "4  23012 Munoz Drive Suite 337\\r\\nNew Cynthia, TX...  ...          77.82\n",
              "\n",
              "[5 rows x 14 columns]"
            ]
          },
          "metadata": {},
          "execution_count": 5
        }
      ]
    },
    {
      "cell_type": "markdown",
      "metadata": {
        "id": "5Lo-QcqMTE0w"
      },
      "source": [
        "** How many rows and columns are there? **"
      ]
    },
    {
      "cell_type": "code",
      "metadata": {
        "id": "iH4PHhIwTE01",
        "colab": {
          "base_uri": "https://localhost:8080/"
        },
        "outputId": "e4531fb1-607c-4609-8514-53e054f906df"
      },
      "source": [
        "df.info()"
      ],
      "execution_count": 5,
      "outputs": [
        {
          "output_type": "stream",
          "name": "stdout",
          "text": [
            "<class 'pandas.core.frame.DataFrame'>\n",
            "RangeIndex: 10000 entries, 0 to 9999\n",
            "Data columns (total 14 columns):\n",
            " #   Column            Non-Null Count  Dtype  \n",
            "---  ------            --------------  -----  \n",
            " 0   Address           10000 non-null  object \n",
            " 1   Lot               10000 non-null  object \n",
            " 2   AM or PM          10000 non-null  object \n",
            " 3   Browser Info      10000 non-null  object \n",
            " 4   Company           10000 non-null  object \n",
            " 5   Credit Card       10000 non-null  int64  \n",
            " 6   CC Exp Date       10000 non-null  object \n",
            " 7   CC Security Code  10000 non-null  int64  \n",
            " 8   CC Provider       10000 non-null  object \n",
            " 9   Email             10000 non-null  object \n",
            " 10  Job               10000 non-null  object \n",
            " 11  IP Address        10000 non-null  object \n",
            " 12  Language          10000 non-null  object \n",
            " 13  Purchase Price    10000 non-null  float64\n",
            "dtypes: float64(1), int64(2), object(11)\n",
            "memory usage: 1.1+ MB\n"
          ]
        }
      ]
    },
    {
      "cell_type": "markdown",
      "metadata": {
        "id": "mYknbrScTE03"
      },
      "source": [
        "** What is the average Purchase Price? **"
      ]
    },
    {
      "cell_type": "code",
      "metadata": {
        "id": "9XTTR2VrTE05",
        "colab": {
          "base_uri": "https://localhost:8080/"
        },
        "outputId": "3386e4e4-0261-46d3-b96f-ac09c4c6e12b"
      },
      "source": [
        "df['Purchase Price'].mean()"
      ],
      "execution_count": null,
      "outputs": [
        {
          "output_type": "execute_result",
          "data": {
            "text/plain": [
              "50.34730200000025"
            ]
          },
          "metadata": {},
          "execution_count": 7
        }
      ]
    },
    {
      "cell_type": "markdown",
      "metadata": {
        "id": "pAoxjDY1TE07"
      },
      "source": [
        "** What were the highest and lowest purchase prices? **"
      ]
    },
    {
      "cell_type": "code",
      "metadata": {
        "id": "QX1JwUpmTE08",
        "colab": {
          "base_uri": "https://localhost:8080/"
        },
        "outputId": "f0b0ab88-a684-42c8-cc2d-946faf25bb7d"
      },
      "source": [
        "df['Purchase Price'].max()"
      ],
      "execution_count": null,
      "outputs": [
        {
          "output_type": "execute_result",
          "data": {
            "text/plain": [
              "99.99"
            ]
          },
          "metadata": {},
          "execution_count": 8
        }
      ]
    },
    {
      "cell_type": "code",
      "metadata": {
        "id": "rAqVwZ2RTE09",
        "colab": {
          "base_uri": "https://localhost:8080/"
        },
        "outputId": "c8bad78e-3e56-4b9c-9846-5853adcd81f8"
      },
      "source": [
        "df['Purchase Price'].min()"
      ],
      "execution_count": null,
      "outputs": [
        {
          "output_type": "execute_result",
          "data": {
            "text/plain": [
              "0.0"
            ]
          },
          "metadata": {},
          "execution_count": 9
        }
      ]
    },
    {
      "cell_type": "code",
      "metadata": {
        "id": "gd0VA3gWTE0-"
      },
      "source": [
        ""
      ],
      "execution_count": null,
      "outputs": []
    },
    {
      "cell_type": "markdown",
      "metadata": {
        "id": "f3CHM1gTTE0-"
      },
      "source": [
        "** How many people have the job title of \"Lawyer\" ? **\n"
      ]
    },
    {
      "cell_type": "code",
      "metadata": {
        "id": "Kk1k9pdmTE0_",
        "colab": {
          "base_uri": "https://localhost:8080/"
        },
        "outputId": "05bf2421-b922-4569-8ee5-f9e46acab423"
      },
      "source": [
        "df['Job'].value_counts().Lawyer"
      ],
      "execution_count": 6,
      "outputs": [
        {
          "output_type": "execute_result",
          "data": {
            "text/plain": [
              "30"
            ]
          },
          "metadata": {},
          "execution_count": 6
        }
      ]
    },
    {
      "cell_type": "markdown",
      "metadata": {
        "id": "Uuf7AlD0TE1B"
      },
      "source": [
        "** How many people made the purchase during the AM and how many people made the purchase during PM ? **\n",
        "\n"
      ]
    },
    {
      "cell_type": "code",
      "metadata": {
        "id": "15bz7ui0TE1D",
        "colab": {
          "base_uri": "https://localhost:8080/"
        },
        "outputId": "f5c51cc8-0f82-4a64-9207-ff8a53fd8c78"
      },
      "source": [
        "df['AM or PM'].value_counts()"
      ],
      "execution_count": null,
      "outputs": [
        {
          "output_type": "execute_result",
          "data": {
            "text/plain": [
              "PM    5068\n",
              "AM    4932\n",
              "Name: AM or PM, dtype: int64"
            ]
          },
          "metadata": {},
          "execution_count": 11
        }
      ]
    },
    {
      "cell_type": "markdown",
      "metadata": {
        "id": "Re05oVGfTE1E"
      },
      "source": [
        "** What are the 5 most common Job Titles? **"
      ]
    },
    {
      "cell_type": "code",
      "metadata": {
        "id": "3JPrxQNpTE1F",
        "colab": {
          "base_uri": "https://localhost:8080/"
        },
        "outputId": "e0157038-5b49-4f6d-8cbf-be9b7ec595f8"
      },
      "source": [
        "df['Job'].value_counts().head()"
      ],
      "execution_count": null,
      "outputs": [
        {
          "output_type": "execute_result",
          "data": {
            "text/plain": [
              "Interior and spatial designer        31\n",
              "Lawyer                               30\n",
              "Social researcher                    28\n",
              "Research officer, political party    27\n",
              "Purchasing manager                   27\n",
              "Name: Job, dtype: int64"
            ]
          },
          "metadata": {},
          "execution_count": 17
        }
      ]
    },
    {
      "cell_type": "markdown",
      "metadata": {
        "id": "kQjVw0VsTE1G"
      },
      "source": [
        "** Someone made a purchase that came from Lot: \"90 WT\" , what was the Purchase Price for this transaction? **"
      ]
    },
    {
      "cell_type": "code",
      "metadata": {
        "id": "99gDYg3KTE1H",
        "colab": {
          "base_uri": "https://localhost:8080/"
        },
        "outputId": "40a6426e-e71c-47d0-d688-3d75fe1b06e0"
      },
      "source": [
        "df[df['Lot']==\"90 WT\"]['Purchase Price']"
      ],
      "execution_count": 8,
      "outputs": [
        {
          "output_type": "execute_result",
          "data": {
            "text/plain": [
              "513    75.1\n",
              "Name: Purchase Price, dtype: float64"
            ]
          },
          "metadata": {},
          "execution_count": 8
        }
      ]
    },
    {
      "cell_type": "markdown",
      "metadata": {
        "id": "gaGZoVevTE1J"
      },
      "source": [
        "** What is the email of the person with the following Credit Card Number: 4926535242672853 **"
      ]
    },
    {
      "cell_type": "code",
      "metadata": {
        "id": "PyM1KsInTE1K",
        "colab": {
          "base_uri": "https://localhost:8080/"
        },
        "outputId": "e449afeb-d296-4dc2-ef63-868dad95732e"
      },
      "source": [
        "df[df['Credit Card']==4926535242672853]['Email']"
      ],
      "execution_count": 9,
      "outputs": [
        {
          "output_type": "execute_result",
          "data": {
            "text/plain": [
              "1234    bondellen@williams-garza.com\n",
              "Name: Email, dtype: object"
            ]
          },
          "metadata": {},
          "execution_count": 9
        }
      ]
    },
    {
      "cell_type": "markdown",
      "metadata": {
        "id": "kbK-nQPITE1K"
      },
      "source": [
        "** How many people have American Express as their Credit Card Provider *and* made a purchase above $95 ?**"
      ]
    },
    {
      "cell_type": "code",
      "metadata": {
        "id": "1D94G_2zTE1L",
        "colab": {
          "base_uri": "https://localhost:8080/"
        },
        "outputId": "c029312a-7f97-43d5-b3df-a636ef7c3fe7"
      },
      "source": [
        "len(df[(df['CC Provider']=='American Express')&(df['Purchase Price']>95)])"
      ],
      "execution_count": 12,
      "outputs": [
        {
          "output_type": "execute_result",
          "data": {
            "text/plain": [
              "39"
            ]
          },
          "metadata": {},
          "execution_count": 12
        }
      ]
    },
    {
      "cell_type": "markdown",
      "metadata": {
        "id": "2V33cNyNTE1L"
      },
      "source": [
        "** Hard: How many people have a credit card that expires in 2025? **"
      ]
    },
    {
      "cell_type": "code",
      "metadata": {
        "id": "H3j0u7scTE1L",
        "colab": {
          "base_uri": "https://localhost:8080/"
        },
        "outputId": "8f37c8ee-c0dd-491b-df4d-6925982dba72"
      },
      "source": [
        "def x(exp_date):\n",
        "    if exp_date.split('/')[1]=='25':\n",
        "        return True\n",
        "    else:\n",
        "        return False\n",
        "\n",
        "sum(df['CC Exp Date'].apply(x))"
      ],
      "execution_count": 32,
      "outputs": [
        {
          "output_type": "execute_result",
          "data": {
            "text/plain": [
              "1033"
            ]
          },
          "metadata": {},
          "execution_count": 32
        }
      ]
    },
    {
      "cell_type": "markdown",
      "metadata": {
        "id": "SpULOOIcTE1M"
      },
      "source": [
        "** Hard: What are the top 5 most popular email providers/hosts (e.g. gmail.com, yahoo.com, etc...) **"
      ]
    },
    {
      "cell_type": "code",
      "metadata": {
        "id": "gOB6hkWtTE1N",
        "colab": {
          "base_uri": "https://localhost:8080/"
        },
        "outputId": "57db56ab-cf82-49c3-c386-22fa2b1da42b"
      },
      "source": [
        "def email(y):\n",
        "  a=y.split('@')\n",
        "  return a[1]\n",
        "\n",
        "df['Email'].apply(email).value_counts().head()\n"
      ],
      "execution_count": 43,
      "outputs": [
        {
          "output_type": "execute_result",
          "data": {
            "text/plain": [
              "hotmail.com     1638\n",
              "yahoo.com       1616\n",
              "gmail.com       1605\n",
              "smith.com         42\n",
              "williams.com      37\n",
              "Name: Email, dtype: int64"
            ]
          },
          "metadata": {},
          "execution_count": 43
        }
      ]
    },
    {
      "cell_type": "markdown",
      "metadata": {
        "id": "GNlmaKMyTE1O"
      },
      "source": [
        "# Great Job!"
      ]
    }
  ]
}